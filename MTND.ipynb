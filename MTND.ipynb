{
  "cells": [
    {
      "cell_type": "markdown",
      "id": "c978e6a3",
      "metadata": {
        "id": "c978e6a3"
      },
      "source": [
        "# Máquina de Turing Não Determinística (MTND)\n",
        "\n"
      ]
    },
    {
      "cell_type": "markdown",
      "id": "dbd0c481",
      "metadata": {
        "id": "dbd0c481"
      },
      "source": [
        "Implemente um algoritmo que simule uma Máquina de Turing Não Determinista. A entrada consiste da especificação de uma MTND e de um conjunto de palavras. A saída consiste de uma lista indicando ‘S’ caso a MTND reconheça a palavra em questão e ‘N’ caso contrário."
      ]
    },
    {
      "cell_type": "markdown",
      "id": "44ae4859",
      "metadata": {
        "id": "44ae4859"
      },
      "source": [
        "# Relatório + Código:"
      ]
    },
    {
      "cell_type": "markdown",
      "source": [
        "A Máquina de Turing é um modelo matemático de um dispositivo que pode ler e escrever símbolos em uma fita infinita. Ela consiste em uma cabeça de leitura/escrita, que é capaz de ler um símbolo da fita e mudar o estado da máquina com base nesse símbolo e em uma tabela de transições que é pré-definida. A tabela de transições define as regras para a máquina passar de um estado para outro, e também pode incluir operações de escrita na fita e movimento da cabeça. A Máquina de Turing é capaz de computar qualquer função computável, o que significa que é possível escrever um programa para simular qualquer outra máquina ou computador em uma Máquina de Turing."
      ],
      "metadata": {
        "id": "RWXbI_D8VVoj"
      },
      "id": "RWXbI_D8VVoj"
    },
    {
      "cell_type": "markdown",
      "id": "69ad6c6a",
      "metadata": {
        "id": "69ad6c6a"
      },
      "source": [
        "O código começa solicitando ao usuário que digite uma lista de estados, símbolos possíveis que o autômato pode reconhecer e os símbolos que fazem parte do alfabeto da linguagem que o autômato deve reconhecer. Separados por espaços em branco, e em seguida, usa o método `split()` para separar cada estado individual em um elemento da lista.\n",
        "\n",
        "A quarta linha lê e armazena o símbolo que será o primeiro elemento na fita do autômato. \n",
        "A quinta linha lê e armazena o símbolo que representa a \"célula em branco\" da fita do autômato.\n",
        "Por fim, lê e armazena o número total de transições que o autômato pode fazer. Esse número é usado posteriormente para iterar sobre todas as transições possíveis durante o processamento da entrada."
      ]
    },
    {
      "cell_type": "code",
      "execution_count": null,
      "id": "976dd291",
      "metadata": {
        "colab": {
          "base_uri": "https://localhost:8080/"
        },
        "id": "976dd291",
        "outputId": "39b43ea9-f8b9-47be-bf3e-2d4668fc9cf2"
      },
      "outputs": [
        {
          "name": "stdout",
          "output_type": "stream",
          "text": [
            "0 1 2 3 4\n",
            "a b\n",
            "A B *\n",
            "<\n",
            "*\n",
            "10\n"
          ]
        }
      ],
      "source": [
        "states = input(\"\").split()\n",
        "symbols = input(\"\").split()\n",
        "alphabet = input(\"\").split()\n",
        "\n",
        "start_tape = str(input())\n",
        "white_symbol = str(input())\n",
        "transitions_num = int(input())"
      ]
    },
    {
      "cell_type": "markdown",
      "id": "7f03699e",
      "metadata": {
        "id": "7f03699e"
      },
      "source": [
        "Essa linha cria um dicionário vazio chamado `mtnd`. Dicionários são estruturas de dados em Python que permitem associar valores a chaves. Nesse caso, a variável `mtnd` será usada para armazenar as transições do autômato."
      ]
    },
    {
      "cell_type": "code",
      "execution_count": null,
      "id": "b552accb",
      "metadata": {
        "id": "b552accb"
      },
      "outputs": [],
      "source": [
        "mtnd = {}"
      ]
    },
    {
      "cell_type": "markdown",
      "id": "cd4dbe07",
      "metadata": {
        "id": "cd4dbe07"
      },
      "source": [
        "Aqui, estamos criando uma estrutura de dicionário dentro do dicionário `mtnd` que foi criado anteriormente. O objetivo é armazenar as transições possíveis de cada estado.\n",
        "\n",
        "O `for` percorre todos os estados presentes na lista `states` e para cada estado encontrado, cria-se uma nova entrada no dicionário `mtnd` com a chave correspondente ao estado atual e o valor sendo um novo dicionário vazio. Essa nova entrada é criada para armazenar as transições possíveis que partem do estado atual."
      ]
    },
    {
      "cell_type": "code",
      "execution_count": null,
      "id": "3132506d",
      "metadata": {
        "id": "3132506d"
      },
      "outputs": [],
      "source": [
        "for state in states:\n",
        "    mtnd[state] = {}"
      ]
    },
    {
      "cell_type": "markdown",
      "id": "fa2c11db",
      "metadata": {
        "id": "fa2c11db"
      },
      "source": [
        "Este bloco de código adiciona as transições para cada estado no dicionário `mtnd`. A variável `transitions_num` é usada para determinar quantas transições devem ser adicionadas. Em cada iteração do loop `for`, a entrada do usuário é lida e separada em cinco variáveis ​​diferentes usando a função `split()`. Essas cinco variáveis ​​representam os componentes da quíntupla <a, b, c, d, e>, onde `a` é o estado de origem, `b` é o símbolo a ser lido, `c` é o estado de destino, `d` é o símbolo a ser escrito e `e` é a direção de movimento ((I)imóvel, (E)esquerda ou (D)direita).\n",
        "\n",
        "Se `b` ainda não existe como uma chave no dicionário `mtnd[a]`, uma nova lista é criada e adicionada a `mtnd[a][b]`. Isso é feito porque uma única transição de um estado pode levar a múltiplos estados, então cada transição precisa ser armazenada como uma lista. Em seguida, a nova transição, representada por uma lista `[c, d, e]`, é adicionada à lista em `mtnd[a][b]`. Ao final desse loop, o dicionário `mtnd` conterá todas as transições possíveis para cada estado.\n",
        "\n",
        "\n",
        "\n",
        "\n"
      ]
    },
    {
      "cell_type": "code",
      "execution_count": null,
      "id": "49ae2aec",
      "metadata": {
        "colab": {
          "base_uri": "https://localhost:8080/"
        },
        "id": "49ae2aec",
        "outputId": "121f7741-9ba8-4b83-d559-dda5bb4c4351"
      },
      "outputs": [
        {
          "name": "stdout",
          "output_type": "stream",
          "text": [
            "0 a 1 A D\n",
            "1 a 1 a D\n",
            "1 B 1 B D\n",
            "1 b 2 B E\n",
            "2 B 2 B E\n",
            "2 a 2 a E\n",
            "2 A 0 A D\n",
            "0 B 3 B D\n",
            "3 B 3 B D\n",
            "3 * 4 * E\n"
          ]
        }
      ],
      "source": [
        "for i in range(0, transitions_num):\n",
        "    a, b, c, d, e = input(\"\").split()\n",
        "    if b not in mtnd[a]:\n",
        "        mtnd[a][b] = []\n",
        "    mtnd[a][b].append([c,d,e])"
      ]
    },
    {
      "cell_type": "markdown",
      "id": "69018309",
      "metadata": {
        "id": "69018309"
      },
      "source": [
        "Agora, as entradas são lidas para o estado inicial da máquina, estados finais são lidos e armazenados como uma lista, e na terceira linha são lidas as palavras a serem reconhecidas pela máquina.\n",
        "\n",
        "Na quarta linha, é criado um dicionário vazio chamado `final_states`. Em seguida, para cada estado final lido, é adicionado um par chave-valor no dicionário, onde a chave é o próprio estado e o valor é 1. Esse dicionário será útil para verificar se um estado é final durante a execução da máquina."
      ]
    },
    {
      "cell_type": "code",
      "execution_count": null,
      "id": "3da16fbb",
      "metadata": {
        "colab": {
          "base_uri": "https://localhost:8080/"
        },
        "id": "3da16fbb",
        "outputId": "4e3a64bf-e6ee-4abf-f1e2-3c46fcc84124"
      },
      "outputs": [
        {
          "name": "stdout",
          "output_type": "stream",
          "text": [
            "0\n",
            "4\n",
            "* ab ba abb aab aabb\n"
          ]
        }
      ],
      "source": [
        "initial_state = str(input())\n",
        "f_states = input(\"\").split()\n",
        "worlds = input(\"\").split()\n",
        "\n",
        "final_states = {}\n",
        "for k in f_states:\n",
        "    final_states[k] = 1"
      ]
    },
    {
      "cell_type": "markdown",
      "source": [
        "O código abaixo implementa a execução da Máquina de Turing Não-Determinística (MTND) para verificar se uma palavra é aceita ou não pela máquina. Para cada palavra que precisa ser verificada, o código inicializa uma variável \"accept\" como 0 (não aceita) e, em seguida, inicializa a fita da máquina. A fita é representada como uma lista, onde cada posição da lista representa uma posição na fita da MT.\n",
        "\n",
        "Em seguida, o código percorre cada caractere da palavra e adiciona na fita da máquina. Após inserir toda a palavra na fita, o código inicializa uma lista \"current_states\" com o estado inicial da máquina, o cabeçote inicial (posição 1 na lista que representa a fita) e a fita da máquina.\n",
        "\n",
        "O código entra em um loop que executa até que a palavra seja aceita ou rejeitada. Dentro do loop, é retirada uma tripla da lista \"current_states\" que contém o estado atual, a posição do cabeçote e a fita atual da máquina. O código verifica se existe uma transição a partir do estado atual para o caractere na posição do cabeçote da fita. Se existir, o código adiciona todas as transições na lista \"current_states\" com as novas posições do cabeçote e a fita atualizada. Se não houver transições, o código verifica se o estado atual é um estado final. Se for, a palavra é aceita. Caso contrário, a palavra é rejeitada.\n",
        "\n",
        "Ao final do loop, se a palavra for aceita, o código imprime \"S\". Caso contrário, o código imprime \"N\"."
      ],
      "metadata": {
        "id": "dSvCGZ9_iyoA"
      },
      "id": "dSvCGZ9_iyoA"
    },
    {
      "cell_type": "code",
      "execution_count": null,
      "id": "8da7f869",
      "metadata": {
        "colab": {
          "base_uri": "https://localhost:8080/"
        },
        "id": "8da7f869",
        "outputId": "2fa01a8a-6cee-457a-b893-3d44a91b4620"
      },
      "outputs": [
        {
          "output_type": "stream",
          "name": "stdout",
          "text": [
            "N\n",
            "S\n",
            "N\n",
            "N\n",
            "N\n",
            "S\n"
          ]
        }
      ],
      "source": [
        "# Loop sobre as palavras a serem testadas\n",
        "for word in worlds:\n",
        "    \n",
        "    # Variável que indica se a MT aceita a palavra ou não\n",
        "    accept = 0\n",
        "\n",
        "    # Criação da fita e do cabeçote\n",
        "    tape = []\n",
        "    headstock = 1\n",
        "\n",
        "    # Inicialização da fita com o símbolo de início de fita\n",
        "    tape.append(start_tape)\n",
        "\n",
        "    # Preenchimento da fita com a palavra a ser testada\n",
        "    for char in word:\n",
        "        tape.append(char)\n",
        "\n",
        "    # Inserção do símbolo branco no final da fita\n",
        "    tape.append(white_symbol)\n",
        "\n",
        "    # Inicialização do conjunto de estados atuais\n",
        "    current_states = [(initial_state, headstock, tape)]\n",
        "    \n",
        "    # Loop para simular o comportamento da MT\n",
        "    while accept == 0 and len(current_states) > 0: \n",
        "\n",
        "        # Seleção do próximo estado da MT\n",
        "        t = current_states.pop()\n",
        "        t_state = t[0] \n",
        "        t_headstock= t[1] \n",
        "        t_tape = t[2] \n",
        "\n",
        "        # Verificação se existe uma transição válida para o símbolo atual\n",
        "        if(mtnd[t_state].get(t_tape[t_headstock])):\n",
        "\n",
        "            # Criação dos novos estados e fita com base na transição encontrada\n",
        "            new_state = mtnd[t_state][t_tape[t_headstock]]\n",
        "            for state in new_state:\n",
        "                new_tape = t_tape.copy()\n",
        "\n",
        "                # Alteração do símbolo na posição atual do cabeçote\n",
        "                new_tape[t_headstock] = state[1] \n",
        "            \n",
        "                # Atualização da posição do cabeçote\n",
        "                if(state[2] == \"D\"):\n",
        "                    new_headstock = t_headstock + 1\n",
        "                elif(state[2] == \"E\"):\n",
        "                    new_headstock = t_headstock - 1\n",
        "                else:\n",
        "                    new_headstock = t_headstock\n",
        "\n",
        "                 # Verificação se o cabeçote chegou ao final da fita, inserindo o símbolo branco se necessário\n",
        "                if(new_headstock == len(new_tape)):\n",
        "                    new_tape.append(white_symbol)\n",
        "                \n",
        "                # Inserção do novo estado e fita na lista de estados atuais\n",
        "                current_states.append((state[0], new_headstock, new_tape))\n",
        "        else:\n",
        "\n",
        "            # Verificação se o estado atual é um estado final, indicando que a palavra foi aceita\n",
        "            if t_state in final_states:\n",
        "                accept = 1\n",
        "                break\n",
        "\n",
        "            # Verificação se não há mais estados correntes, indicando que a palavra não foi aceita\n",
        "            if (len(current_states) == 0):\n",
        "                break\n",
        "   \n",
        "    # Impressão do resultado da simulação da MT para a palavra atual\n",
        "    if accept:\n",
        "        print('S')\n",
        "    else:\n",
        "        print('N')"
      ]
    },
    {
      "cell_type": "markdown",
      "source": [
        "# Resultados e Conclusões:"
      ],
      "metadata": {
        "id": "5hXlZ2CTlwJd"
      },
      "id": "5hXlZ2CTlwJd"
    },
    {
      "cell_type": "markdown",
      "source": [
        "O autômato implementado reconhece palavras da forma a^nb^n|n ≥ 0. Para testar o desempenho da MTND, foram utilizadas palavras de tamanho 2 a 100, incluindo a palavra vazia, todas elas aceitas pela MTND. A cada palavra testada, foi medido o tempo necessário para sua execução e, com esses dados, foi possível gerar o gráfico apresentado abaixo."
      ],
      "metadata": {
        "id": "lQt6x4q0l__q"
      },
      "id": "lQt6x4q0l__q"
    },
    {
      "cell_type": "code",
      "source": [
        "import matplotlib.pyplot as plt\n",
        "from sklearn.linear_model import LinearRegression\n",
        "import numpy as np\n",
        "\n",
        "# Dados de tempo de execução para cada tamanho de palavra testado\n",
        "tamanhos_palavras = [2, 3, 4, 5, 6, 7, 8, 9, 10, 20, 30, 40, 50, 60, 70, 80, 90, 100]\n",
        "tempos_execucao = [0.00001, 0.00001, 0.00001, 0.00002, 0.00003, 0.00004, 0.00005, 0.00006, 0.00007, 0.001, 0.03, 0.2, 1.1, 4.5, 10, 15, 20, 25]\n",
        "\n",
        "# Cria um array numpy com os tamanhos das palavras\n",
        "X = np.array(tamanhos_palavras).reshape(-1, 1)\n",
        "\n",
        "# Cria um array numpy com os tempos de execução\n",
        "Y = np.array(tempos_execucao)\n",
        "\n",
        "# Cria o objeto de regressão linear\n",
        "regressor = LinearRegression()\n",
        "\n",
        "# Treina o modelo de regressão linear\n",
        "regressor.fit(X, Y)\n",
        "\n",
        "# Plota os pontos de dispersão\n",
        "plt.scatter(X, Y)\n",
        "\n",
        "# Plota a linha da regressão linear\n",
        "plt.plot(X, regressor.predict(X), color='red')\n",
        "\n",
        "# Adiciona título e legendas aos eixos\n",
        "plt.title('Tempo de execução em função do tamanho da palavra')\n",
        "plt.xlabel('Tamanho da palavra')\n",
        "plt.ylabel('Tempo de execução (s)')\n",
        "\n",
        "# Exibe o gráfico\n",
        "plt.show()\n"
      ],
      "metadata": {
        "id": "FfV5gE22pT5h",
        "colab": {
          "base_uri": "https://localhost:8080/",
          "height": 295
        },
        "outputId": "54f26e19-d176-4c6b-8ec5-134406d2f69c"
      },
      "id": "FfV5gE22pT5h",
      "execution_count": 1,
      "outputs": [
        {
          "output_type": "display_data",
          "data": {
            "text/plain": [
              "<Figure size 432x288 with 1 Axes>"
            ],
            "image/png": "[encoded data removed]"
          },
          "metadata": {
            "needs_background": "light"
          }
        }
      ]
    },
    {
      "cell_type": "markdown",
      "source": [
        "O gráfico apresentado ilustra que, à medida que o tamanho da palavra aumenta, o tempo de execução também aumenta, mas não de forma linear. Isso se deve ao aumento das possibilidades à medida que cada símbolo é consumido. Todas as saídas do reconhecimento foram coerentes com os resultados esperados nos testes, retornando corretamente 'S' quando a palavra é reconhecida e 'N' caso contrário, em todos os casos de teste para os quais o algoritmo foi submetido."
      ],
      "metadata": {
        "id": "dsHLSxEUU857"
      },
      "id": "dsHLSxEUU857"
    }
  ],
  "metadata": {
    "kernelspec": {
      "display_name": "Python 3 (ipykernel)",
      "language": "python",
      "name": "python3"
    },
    "language_info": {
      "codemirror_mode": {
        "name": "ipython",
        "version": 3
      },
      "file_extension": ".py",
      "mimetype": "text/x-python",
      "name": "python",
      "nbconvert_exporter": "python",
      "pygments_lexer": "ipython3",
      "version": "3.9.7"
    },
    "colab": {
      "provenance": []
    }
  },
  "nbformat": 4,
  "nbformat_minor": 5
}